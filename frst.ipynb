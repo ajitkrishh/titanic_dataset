{
 "cells": [
  {
   "cell_type": "code",
   "execution_count": 2,
   "id": "82acf79b",
   "metadata": {},
   "outputs": [],
   "source": [
    "import numpy as np\n",
    "import pandas as pd\n",
    "import matplotlib as plt\n"
   ]
  },
  {
   "cell_type": "code",
   "execution_count": 3,
   "id": "f5c76be2",
   "metadata": {
    "scrolled": true
   },
   "outputs": [],
   "source": [
    "df = pd.read_csv(\"titan.csv\")\n"
   ]
  },
  {
   "cell_type": "code",
   "execution_count": 4,
   "id": "4903763f",
   "metadata": {},
   "outputs": [
    {
     "data": {
      "text/plain": [
       "(891, 12)"
      ]
     },
     "execution_count": 4,
     "metadata": {},
     "output_type": "execute_result"
    }
   ],
   "source": [
    "df.sample(1)\n",
    "df.dropna()\n",
    "df.shape"
   ]
  },
  {
   "cell_type": "code",
   "execution_count": 5,
   "id": "57f04b43",
   "metadata": {},
   "outputs": [],
   "source": [
    "from sklearn import preprocessing\n",
    "import warnings\n",
    "warnings.filterwarnings(\"ignore\")\n",
    "\n",
    "# x = df[[\"PassengerId\",\"Survived\",\"Pclass\",\"Sex\",\"Age\",\"Fare\"]]\n"
   ]
  },
  {
   "cell_type": "code",
   "execution_count": 10,
   "id": "0f49779c",
   "metadata": {},
   "outputs": [
    {
     "name": "stdout",
     "output_type": "stream",
     "text": [
      "     PassengerId  Survived  Pclass      Sex   Age\n",
      "0              1         0       3  1000001  20.0\n",
      "1              2         1       1  1000000  35.0\n",
      "2              3         1       3  1000000  25.0\n",
      "3              4         1       1  1000000  35.0\n",
      "4              5         0       3  1000001  35.0\n",
      "..           ...       ...     ...      ...   ...\n",
      "885          886         0       3  1000000  35.0\n",
      "886          887         0       2  1000001  25.0\n",
      "887          888         1       1  1000000  15.0\n",
      "889          890         1       1  1000001  25.0\n",
      "890          891         0       3  1000001  30.0\n",
      "\n",
      "[714 rows x 5 columns]\n"
     ]
    },
    {
     "data": {
      "text/html": [
       "<div>\n",
       "<style scoped>\n",
       "    .dataframe tbody tr th:only-of-type {\n",
       "        vertical-align: middle;\n",
       "    }\n",
       "\n",
       "    .dataframe tbody tr th {\n",
       "        vertical-align: top;\n",
       "    }\n",
       "\n",
       "    .dataframe thead th {\n",
       "        text-align: right;\n",
       "    }\n",
       "</style>\n",
       "<table border=\"1\" class=\"dataframe\">\n",
       "  <thead>\n",
       "    <tr style=\"text-align: right;\">\n",
       "      <th></th>\n",
       "      <th>PassengerId</th>\n",
       "      <th>Pclass</th>\n",
       "      <th>Sex</th>\n",
       "      <th>Age</th>\n",
       "    </tr>\n",
       "  </thead>\n",
       "  <tbody>\n",
       "    <tr>\n",
       "      <th>0</th>\n",
       "      <td>1</td>\n",
       "      <td>3</td>\n",
       "      <td>1000001</td>\n",
       "      <td>20.0</td>\n",
       "    </tr>\n",
       "    <tr>\n",
       "      <th>1</th>\n",
       "      <td>2</td>\n",
       "      <td>1</td>\n",
       "      <td>1000000</td>\n",
       "      <td>35.0</td>\n",
       "    </tr>\n",
       "    <tr>\n",
       "      <th>2</th>\n",
       "      <td>3</td>\n",
       "      <td>3</td>\n",
       "      <td>1000000</td>\n",
       "      <td>25.0</td>\n",
       "    </tr>\n",
       "    <tr>\n",
       "      <th>3</th>\n",
       "      <td>4</td>\n",
       "      <td>1</td>\n",
       "      <td>1000000</td>\n",
       "      <td>35.0</td>\n",
       "    </tr>\n",
       "    <tr>\n",
       "      <th>4</th>\n",
       "      <td>5</td>\n",
       "      <td>3</td>\n",
       "      <td>1000001</td>\n",
       "      <td>35.0</td>\n",
       "    </tr>\n",
       "    <tr>\n",
       "      <th>...</th>\n",
       "      <td>...</td>\n",
       "      <td>...</td>\n",
       "      <td>...</td>\n",
       "      <td>...</td>\n",
       "    </tr>\n",
       "    <tr>\n",
       "      <th>885</th>\n",
       "      <td>886</td>\n",
       "      <td>3</td>\n",
       "      <td>1000000</td>\n",
       "      <td>35.0</td>\n",
       "    </tr>\n",
       "    <tr>\n",
       "      <th>886</th>\n",
       "      <td>887</td>\n",
       "      <td>2</td>\n",
       "      <td>1000001</td>\n",
       "      <td>25.0</td>\n",
       "    </tr>\n",
       "    <tr>\n",
       "      <th>887</th>\n",
       "      <td>888</td>\n",
       "      <td>1</td>\n",
       "      <td>1000000</td>\n",
       "      <td>15.0</td>\n",
       "    </tr>\n",
       "    <tr>\n",
       "      <th>889</th>\n",
       "      <td>890</td>\n",
       "      <td>1</td>\n",
       "      <td>1000001</td>\n",
       "      <td>25.0</td>\n",
       "    </tr>\n",
       "    <tr>\n",
       "      <th>890</th>\n",
       "      <td>891</td>\n",
       "      <td>3</td>\n",
       "      <td>1000001</td>\n",
       "      <td>30.0</td>\n",
       "    </tr>\n",
       "  </tbody>\n",
       "</table>\n",
       "<p>714 rows × 4 columns</p>\n",
       "</div>"
      ],
      "text/plain": [
       "     PassengerId  Pclass      Sex   Age\n",
       "0              1       3  1000001  20.0\n",
       "1              2       1  1000000  35.0\n",
       "2              3       3  1000000  25.0\n",
       "3              4       1  1000000  35.0\n",
       "4              5       3  1000001  35.0\n",
       "..           ...     ...      ...   ...\n",
       "885          886       3  1000000  35.0\n",
       "886          887       2  1000001  25.0\n",
       "887          888       1  1000000  15.0\n",
       "889          890       1  1000001  25.0\n",
       "890          891       3  1000001  30.0\n",
       "\n",
       "[714 rows x 4 columns]"
      ]
     },
     "execution_count": 10,
     "metadata": {},
     "output_type": "execute_result"
    }
   ],
   "source": [
    "x = df[[\"PassengerId\",\"Survived\",\"Pclass\",\"Sex\",\"Age\"]]\n",
    "l_encodr = preprocessing.LabelEncoder()\n",
    "x.replace([np.inf,-np.inf],np.nan,inplace = True)\n",
    "x.dropna(axis = 0,how = 'any',inplace = True)\n",
    "x[\"Sex\"] = l_encodr.fit_transform(x[\"Sex\"])\n",
    "x[\"Sex\"] = x[\"Sex\"] + (10**6)\n",
    "x[\"Age\"] = (x[\"Age\"]//5)*5\n",
    "print(x)\n",
    "y = x[\"Survived\"]\n",
    "# y.columns = ['Survived']\n",
    "x = x.drop(\"Survived\",axis= 1)\n",
    "x"
   ]
  },
  {
   "cell_type": "code",
   "execution_count": 6,
   "id": "7b744bb0",
   "metadata": {},
   "outputs": [],
   "source": [
    "from sklearn.model_selection import train_test_split\n",
    "from sklearn.metrics import accuracy_score\n",
    "from sklearn.tree import DecisionTreeClassifier\n"
   ]
  },
  {
   "cell_type": "code",
   "execution_count": 14,
   "id": "7e29a132",
   "metadata": {},
   "outputs": [
    {
     "name": "stdout",
     "output_type": "stream",
     "text": [
      "0.7638888888888888 3\n"
     ]
    }
   ],
   "source": [
    "X_train,X_test,Y_train,Y_test = train_test_split(x,y,test_size=0.1)\n",
    "maxx_v,dep = 0,0\n",
    "for i in range(10):\n",
    "#     for j in range(1,4):\n",
    "    dt = DecisionTreeClassifier(max_depth=i+1)\n",
    "    dt.fit(X_train,Y_train)\n",
    "    pred = dt.predict(X_test)\n",
    "    score = accuracy_score(pred,Y_test)\n",
    "#     print(score , (i+1))\n",
    "    if (maxx_v < score):\n",
    "        maxx_v = score\n",
    "        dep = i+1\n",
    "#         f = j\n",
    "# print(maxx_v,dep,f)\n",
    "print(maxx_v,dep)"
   ]
  },
  {
   "cell_type": "code",
   "execution_count": 16,
   "id": "4f0e5732",
   "metadata": {},
   "outputs": [
    {
     "data": {
      "text/plain": [
       "0.75"
      ]
     },
     "execution_count": 16,
     "metadata": {},
     "output_type": "execute_result"
    }
   ],
   "source": [
    "dt = DecisionTreeClassifier(max_depth=2)\n",
    "dt.fit(X_train,Y_train)\n",
    "pred = dt.predict(X_test)\n",
    "score = accuracy_score(pred,Y_test)\n",
    "score"
   ]
  },
  {
   "cell_type": "code",
   "execution_count": null,
   "id": "b0c80550",
   "metadata": {},
   "outputs": [],
   "source": []
  }
 ],
 "metadata": {
  "kernelspec": {
   "display_name": "Python 3",
   "language": "python",
   "name": "python3"
  },
  "language_info": {
   "codemirror_mode": {
    "name": "ipython",
    "version": 3
   },
   "file_extension": ".py",
   "mimetype": "text/x-python",
   "name": "python",
   "nbconvert_exporter": "python",
   "pygments_lexer": "ipython3",
   "version": "3.8.2"
  }
 },
 "nbformat": 4,
 "nbformat_minor": 5
}
